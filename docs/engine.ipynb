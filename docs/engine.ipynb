{
 "cells": [
  {
   "attachments": {},
   "cell_type": "markdown",
   "metadata": {},
   "source": [
    "# Step-wise engine for indicators\n",
    "\n",
    "This notebook showcases the usage of the `Engine` class allowing a step-wise iteration over indicator generation.\n",
    "\n",
    "It has two main steps:\n",
    "\n",
    "1. Initialisation with the starting variable state at LSOA level\n",
    "2. Change of a single variable in a single LSOA and generation of indicators.\n",
    "\n",
    "We need to import the class and (here) use pandas to specify the initial state."
   ]
  },
  {
   "cell_type": "code",
   "execution_count": 1,
   "metadata": {},
   "outputs": [
    {
     "name": "stderr",
     "output_type": "stream",
     "text": [
      "<string>:1: UserWarning: Shapely 2.0 is installed, but because PyGEOS is also installed, GeoPandas will still use PyGEOS by default for now. To force to use and test Shapely 2.0, you have to set the environment variable USE_PYGEOS=0. You can do this before starting the Python process, or in your code before importing geopandas:\n",
      "\n",
      "import os\n",
      "os.environ['USE_PYGEOS'] = '0'\n",
      "import geopandas\n",
      "\n",
      "In a future release, GeoPandas will switch to using Shapely by default. If you are using PyGEOS directly (calling PyGEOS functions on geometries from GeoPandas), this will then stop working and you are encouraged to migrate from PyGEOS to Shapely 2.0 (https://shapely.readthedocs.io/en/latest/migration_pygeos.html).\n"
     ]
    }
   ],
   "source": [
    "from demoland_engine import Engine, get_lsoa_baseline"
   ]
  },
  {
   "attachments": {},
   "cell_type": "markdown",
   "metadata": {},
   "source": [
    "We have to specify the initial state. The state reflecting the current situation as closely as it could is stored in the `data/lsoa_baseline.parquet` file.\n",
    "\n",
    "The bounds of allowed values per column:\n",
    "\n",
    "    signature_type : int\n",
    "        Int representing signature type. See below the possible options\n",
    "        and their relationship to the signature type.\n",
    "\n",
    "            0: 'Wild countryside',\n",
    "            1: 'Countryside agriculture',\n",
    "            2: 'Urban buffer',\n",
    "            3: 'Warehouse/Park land',\n",
    "            4: 'Open sprawl',\n",
    "            5: 'Disconnected suburbia',\n",
    "            6: 'Accessible suburbia',\n",
    "            7: 'Connected residential neighbourhoods',\n",
    "            8: 'Dense residential neighbourhoods',\n",
    "            9: 'Gridded residential quarters',\n",
    "            10: 'Dense urban neighbourhoods',\n",
    "            11: 'Local urbanity',\n",
    "            12: 'Regional urbanity',\n",
    "            13: 'Metropolitan urbanity',\n",
    "            14: 'Concentrated urbanity',\n",
    "            15: 'Hyper concentrated urbanity',\n",
    "\n",
    "    use : float, optional\n",
    "        Float in a range -1...1 reflecting the land use balance between\n",
    "        fully residential (-1) and fully commercial (1). Defautls to 0,\n",
    "        a value derived from signatures. For values < 0, we are allocating\n",
    "        workplace population to residential population. For values > 0, we\n",
    "        are allocating residential population to workplace population.\n",
    "        Extremes are allowed but are not realistic, in most cases.\n",
    "    greenspace : float, optional\n",
    "        Float in a range 0...1 reflecting the amount of greenspace in the\n",
    "        area. 0 representes no accessible greenspace, 1 represents whole\n",
    "        area covered by a greenspace. This value will proportionally affect\n",
    "        the amounts of jobs and population.\n",
    "    job_types : float, optional\n",
    "        Float in a range 0...1 reflecting the balance of job types in the\n",
    "        area between entirely blue collar jobs (0) and entirely white collar\n",
    "        jobs (1)."
   ]
  },
  {
   "cell_type": "code",
   "execution_count": 2,
   "metadata": {},
   "outputs": [
    {
     "data": {
      "text/html": [
       "<div>\n",
       "<style scoped>\n",
       "    .dataframe tbody tr th:only-of-type {\n",
       "        vertical-align: middle;\n",
       "    }\n",
       "\n",
       "    .dataframe tbody tr th {\n",
       "        vertical-align: top;\n",
       "    }\n",
       "\n",
       "    .dataframe thead th {\n",
       "        text-align: right;\n",
       "    }\n",
       "</style>\n",
       "<table border=\"1\" class=\"dataframe\">\n",
       "  <thead>\n",
       "    <tr style=\"text-align: right;\">\n",
       "      <th></th>\n",
       "      <th>signature_type</th>\n",
       "      <th>use</th>\n",
       "      <th>greenspace</th>\n",
       "      <th>job_types</th>\n",
       "    </tr>\n",
       "  </thead>\n",
       "  <tbody>\n",
       "    <tr>\n",
       "      <th>E01008162</th>\n",
       "      <td>8</td>\n",
       "      <td>0</td>\n",
       "      <td>0</td>\n",
       "      <td>0.531270</td>\n",
       "    </tr>\n",
       "    <tr>\n",
       "      <th>E01008163</th>\n",
       "      <td>10</td>\n",
       "      <td>0</td>\n",
       "      <td>0</td>\n",
       "      <td>0.834764</td>\n",
       "    </tr>\n",
       "    <tr>\n",
       "      <th>E01008164</th>\n",
       "      <td>8</td>\n",
       "      <td>0</td>\n",
       "      <td>0</td>\n",
       "      <td>0.520837</td>\n",
       "    </tr>\n",
       "    <tr>\n",
       "      <th>E01008165</th>\n",
       "      <td>8</td>\n",
       "      <td>0</td>\n",
       "      <td>0</td>\n",
       "      <td>0.583986</td>\n",
       "    </tr>\n",
       "    <tr>\n",
       "      <th>E01008166</th>\n",
       "      <td>10</td>\n",
       "      <td>0</td>\n",
       "      <td>0</td>\n",
       "      <td>0.592752</td>\n",
       "    </tr>\n",
       "  </tbody>\n",
       "</table>\n",
       "</div>"
      ],
      "text/plain": [
       "           signature_type  use  greenspace  job_types\n",
       "E01008162               8    0           0   0.531270\n",
       "E01008163              10    0           0   0.834764\n",
       "E01008164               8    0           0   0.520837\n",
       "E01008165               8    0           0   0.583986\n",
       "E01008166              10    0           0   0.592752"
      ]
     },
     "execution_count": 2,
     "metadata": {},
     "output_type": "execute_result"
    }
   ],
   "source": [
    "lsoa_input = get_lsoa_baseline()\n",
    "lsoa_input.head()"
   ]
  },
  {
   "attachments": {},
   "cell_type": "markdown",
   "metadata": {},
   "source": [
    "Initialise the class. This will take a few seconds due to sampling of all underlying OA-level values but all of them are cached for subsequent steps."
   ]
  },
  {
   "cell_type": "code",
   "execution_count": 3,
   "metadata": {},
   "outputs": [],
   "source": [
    "eng = Engine(lsoa_input)"
   ]
  },
  {
   "attachments": {},
   "cell_type": "markdown",
   "metadata": {},
   "source": [
    "At every step, you can retrieve the array with indicators using `Engine.indicators`. We can use it to save the values for the baseline just to check if they will have changed."
   ]
  },
  {
   "cell_type": "code",
   "execution_count": 4,
   "metadata": {},
   "outputs": [],
   "source": [
    "base = eng.indicators.copy()"
   ]
  },
  {
   "attachments": {},
   "cell_type": "markdown",
   "metadata": {},
   "source": [
    "This is the key part. At the moment, it expects a location of a change within a 2D array and a new value at that location. The class will transfer that to the OA level, adapts/samples values of affected OAs and generates new indicators based on those values."
   ]
  },
  {
   "cell_type": "code",
   "execution_count": 5,
   "metadata": {},
   "outputs": [
    {
     "name": "stdout",
     "output_type": "stream",
     "text": [
      "CPU times: user 470 ms, sys: 258 ms, total: 728 ms\n",
      "Wall time: 620 ms\n"
     ]
    }
   ],
   "source": [
    "%%time\n",
    "eng.change((100, 2), 0.9)"
   ]
  },
  {
   "attachments": {},
   "cell_type": "markdown",
   "metadata": {},
   "source": [
    "This takes about 600ms on a M1 MacBook Air per change.\n",
    "\n",
    "See the signature for details."
   ]
  },
  {
   "cell_type": "code",
   "execution_count": 6,
   "metadata": {},
   "outputs": [
    {
     "name": "stdout",
     "output_type": "stream",
     "text": [
      "Help on method change in module demoland_engine.engine:\n",
      "\n",
      "change(iloc, val) method of demoland_engine.engine.Engine instance\n",
      "    Change a single variable on a single area and recompute indicators\n",
      "    \n",
      "    Parameters\n",
      "    ----------\n",
      "    iloc : tuple (row, col)\n",
      "        tuple reflecitng the position of a change suitable for positional indexing\n",
      "    val : float\n",
      "        new value of a specified position\n",
      "\n"
     ]
    }
   ],
   "source": [
    "help(eng.change)"
   ]
  },
  {
   "attachments": {},
   "cell_type": "markdown",
   "metadata": {},
   "source": [
    "You can now check the change."
   ]
  },
  {
   "cell_type": "code",
   "execution_count": 7,
   "metadata": {},
   "outputs": [
    {
     "data": {
      "text/plain": [
       "air_quality                 5.665273e-01\n",
       "house_price                 3.823087e-02\n",
       "job_accessibility           0.000000e+00\n",
       "greenspace_accessibility   -5.234117e+06\n",
       "dtype: float64"
      ]
     },
     "execution_count": 7,
     "metadata": {},
     "output_type": "execute_result"
    }
   ],
   "source": [
    "(base - eng.indicators).sum()"
   ]
  },
  {
   "attachments": {},
   "cell_type": "markdown",
   "metadata": {},
   "source": [
    "The `Engine.indicators` attribute returns a pandas.DataFrame like this."
   ]
  },
  {
   "cell_type": "code",
   "execution_count": 8,
   "metadata": {},
   "outputs": [
    {
     "data": {
      "text/html": [
       "<div>\n",
       "<style scoped>\n",
       "    .dataframe tbody tr th:only-of-type {\n",
       "        vertical-align: middle;\n",
       "    }\n",
       "\n",
       "    .dataframe tbody tr th {\n",
       "        vertical-align: top;\n",
       "    }\n",
       "\n",
       "    .dataframe thead th {\n",
       "        text-align: right;\n",
       "    }\n",
       "</style>\n",
       "<table border=\"1\" class=\"dataframe\">\n",
       "  <thead>\n",
       "    <tr style=\"text-align: right;\">\n",
       "      <th></th>\n",
       "      <th>air_quality</th>\n",
       "      <th>house_price</th>\n",
       "      <th>job_accessibility</th>\n",
       "      <th>greenspace_accessibility</th>\n",
       "    </tr>\n",
       "    <tr>\n",
       "      <th>lsoa</th>\n",
       "      <th></th>\n",
       "      <th></th>\n",
       "      <th></th>\n",
       "      <th></th>\n",
       "    </tr>\n",
       "  </thead>\n",
       "  <tbody>\n",
       "    <tr>\n",
       "      <th>E01008162</th>\n",
       "      <td>17.448331</td>\n",
       "      <td>7.629745</td>\n",
       "      <td>6254.500000</td>\n",
       "      <td>4.198600e+05</td>\n",
       "    </tr>\n",
       "    <tr>\n",
       "      <th>E01008163</th>\n",
       "      <td>18.284785</td>\n",
       "      <td>7.595240</td>\n",
       "      <td>9306.500000</td>\n",
       "      <td>5.007069e+05</td>\n",
       "    </tr>\n",
       "    <tr>\n",
       "      <th>E01008164</th>\n",
       "      <td>17.462851</td>\n",
       "      <td>7.602097</td>\n",
       "      <td>2445.800000</td>\n",
       "      <td>4.657973e+05</td>\n",
       "    </tr>\n",
       "    <tr>\n",
       "      <th>E01008165</th>\n",
       "      <td>17.682156</td>\n",
       "      <td>7.575221</td>\n",
       "      <td>3271.200000</td>\n",
       "      <td>3.457522e+05</td>\n",
       "    </tr>\n",
       "    <tr>\n",
       "      <th>E01008166</th>\n",
       "      <td>17.383304</td>\n",
       "      <td>7.649193</td>\n",
       "      <td>16046.000000</td>\n",
       "      <td>1.733233e+05</td>\n",
       "    </tr>\n",
       "    <tr>\n",
       "      <th>...</th>\n",
       "      <td>...</td>\n",
       "      <td>...</td>\n",
       "      <td>...</td>\n",
       "      <td>...</td>\n",
       "    </tr>\n",
       "    <tr>\n",
       "      <th>E01033550</th>\n",
       "      <td>15.602076</td>\n",
       "      <td>8.247460</td>\n",
       "      <td>332.666667</td>\n",
       "      <td>6.965745e+04</td>\n",
       "    </tr>\n",
       "    <tr>\n",
       "      <th>E01033551</th>\n",
       "      <td>14.766245</td>\n",
       "      <td>8.207879</td>\n",
       "      <td>767.333333</td>\n",
       "      <td>6.739372e+04</td>\n",
       "    </tr>\n",
       "    <tr>\n",
       "      <th>E01033553</th>\n",
       "      <td>19.715751</td>\n",
       "      <td>7.891137</td>\n",
       "      <td>37975.666667</td>\n",
       "      <td>1.292969e+05</td>\n",
       "    </tr>\n",
       "    <tr>\n",
       "      <th>E01033554</th>\n",
       "      <td>19.606670</td>\n",
       "      <td>8.083225</td>\n",
       "      <td>36465.800000</td>\n",
       "      <td>7.309174e+05</td>\n",
       "    </tr>\n",
       "    <tr>\n",
       "      <th>E01033556</th>\n",
       "      <td>18.605134</td>\n",
       "      <td>7.929402</td>\n",
       "      <td>6746.000000</td>\n",
       "      <td>2.668844e+06</td>\n",
       "    </tr>\n",
       "  </tbody>\n",
       "</table>\n",
       "<p>719 rows × 4 columns</p>\n",
       "</div>"
      ],
      "text/plain": [
       "           air_quality  house_price  job_accessibility  \\\n",
       "lsoa                                                     \n",
       "E01008162    17.448331     7.629745        6254.500000   \n",
       "E01008163    18.284785     7.595240        9306.500000   \n",
       "E01008164    17.462851     7.602097        2445.800000   \n",
       "E01008165    17.682156     7.575221        3271.200000   \n",
       "E01008166    17.383304     7.649193       16046.000000   \n",
       "...                ...          ...                ...   \n",
       "E01033550    15.602076     8.247460         332.666667   \n",
       "E01033551    14.766245     8.207879         767.333333   \n",
       "E01033553    19.715751     7.891137       37975.666667   \n",
       "E01033554    19.606670     8.083225       36465.800000   \n",
       "E01033556    18.605134     7.929402        6746.000000   \n",
       "\n",
       "           greenspace_accessibility  \n",
       "lsoa                                 \n",
       "E01008162              4.198600e+05  \n",
       "E01008163              5.007069e+05  \n",
       "E01008164              4.657973e+05  \n",
       "E01008165              3.457522e+05  \n",
       "E01008166              1.733233e+05  \n",
       "...                             ...  \n",
       "E01033550              6.965745e+04  \n",
       "E01033551              6.739372e+04  \n",
       "E01033553              1.292969e+05  \n",
       "E01033554              7.309174e+05  \n",
       "E01033556              2.668844e+06  \n",
       "\n",
       "[719 rows x 4 columns]"
      ]
     },
     "execution_count": 8,
     "metadata": {},
     "output_type": "execute_result"
    }
   ],
   "source": [
    "eng.indicators"
   ]
  },
  {
   "cell_type": "code",
   "execution_count": 9,
   "metadata": {},
   "outputs": [
    {
     "data": {
      "text/plain": [
       "<AxesSubplot: ylabel='Frequency'>"
      ]
     },
     "execution_count": 9,
     "metadata": {},
     "output_type": "execute_result"
    },
    {
     "data": {
      "image/png": "[encoded data removed]",
      "text/plain": [
       "<Figure size 640x480 with 1 Axes>"
      ]
     },
     "metadata": {},
     "output_type": "display_data"
    }
   ],
   "source": [
    "eng.indicators.air_quality.plot.hist()"
   ]
  },
  {
   "cell_type": "code",
   "execution_count": 10,
   "metadata": {},
   "outputs": [
    {
     "data": {
      "text/plain": [
       "<AxesSubplot: ylabel='Frequency'>"
      ]
     },
     "execution_count": 10,
     "metadata": {},
     "output_type": "execute_result"
    },
    {
     "data": {
      "image/png": "[encoded data removed]",
      "text/plain": [
       "<Figure size 640x480 with 1 Axes>"
      ]
     },
     "metadata": {},
     "output_type": "display_data"
    }
   ],
   "source": [
    "eng.indicators.house_price.plot.hist()"
   ]
  },
  {
   "cell_type": "code",
   "execution_count": 11,
   "metadata": {},
   "outputs": [
    {
     "data": {
      "text/plain": [
       "<AxesSubplot: ylabel='Frequency'>"
      ]
     },
     "execution_count": 11,
     "metadata": {},
     "output_type": "execute_result"
    },
    {
     "data": {
      "image/png": "[encoded data removed]",
      "text/plain": [
       "<Figure size 640x480 with 1 Axes>"
      ]
     },
     "metadata": {},
     "output_type": "display_data"
    }
   ],
   "source": [
    "eng.indicators.job_accessibility.plot.hist(bins=100)"
   ]
  },
  {
   "cell_type": "code",
   "execution_count": 12,
   "metadata": {},
   "outputs": [
    {
     "data": {
      "text/plain": [
       "<AxesSubplot: ylabel='Frequency'>"
      ]
     },
     "execution_count": 12,
     "metadata": {},
     "output_type": "execute_result"
    },
    {
     "data": {
      "image/png": "[encoded data removed]",
      "text/plain": [
       "<Figure size 640x480 with 1 Axes>"
      ]
     },
     "metadata": {},
     "output_type": "display_data"
    }
   ],
   "source": [
    "eng.indicators.greenspace_accessibility.plot.hist(bins=100)"
   ]
  }
 ],
 "metadata": {
  "kernelspec": {
   "display_name": "demoland",
   "language": "python",
   "name": "python3"
  },
  "language_info": {
   "codemirror_mode": {
    "name": "ipython",
    "version": 3
   },
   "file_extension": ".py",
   "mimetype": "text/x-python",
   "name": "python",
   "nbconvert_exporter": "python",
   "pygments_lexer": "ipython3",
   "version": "3.11.0"
  },
  "orig_nbformat": 4
 },
 "nbformat": 4,
 "nbformat_minor": 2
}
